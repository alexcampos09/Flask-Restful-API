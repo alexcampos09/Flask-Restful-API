{
 "cells": [
  {
   "cell_type": "code",
   "execution_count": 1,
   "metadata": {},
   "outputs": [],
   "source": [
    "import numpy as np\n",
    "import pandas as pd"
   ]
  },
  {
   "cell_type": "code",
   "execution_count": 2,
   "metadata": {},
   "outputs": [],
   "source": [
    "product_types = {'Small': 'CM00', 'Large': 'CM10', 'Espresso':'EM00'}\n",
    "models = {'Base':'1', 'Premium':'2', 'Deluxe':'3'}\n",
    "pods = {'Small':'CP0', 'Large':'CP1', 'Expresso':'EP0'}\n",
    "flavors = {'vanilla':'0', 'caramel':'1', 'psl':'2', 'mocha':'3', 'hazelnut':'4'}\n",
    "packages = [1, 3, 5, 7]\n",
    "index_names = ['Flavor', 'Package']\n",
    "sku_list = ['CP001','CP101','CP003','CP103','EP003','EP005','EP007','CP011','CP111','CP013','CP113','EP013','EP015',\n",
    "            'EP017','CP021','CP121','CP023','CP123','CP031','CP131','CP033','CP133','CP041','CP141','CP043','CP143']"
   ]
  },
  {
   "cell_type": "code",
   "execution_count": 3,
   "metadata": {
    "scrolled": false
   },
   "outputs": [],
   "source": [
    "def check_item(pod, flavor, package):\n",
    "    sku = pods[pod] + flavors[flavor] + str(package)\n",
    "    if sku in sku_list:\n",
    "        return sku\n",
    "\n",
    "def cross_sell():\n",
    "    pod_list = []\n",
    "    for flavor in flavors:\n",
    "        for package in packages:\n",
    "            for pod in pods:\n",
    "                pod_list.append(check_item(pod, flavor, package))\n",
    "    return pod_list"
   ]
  },
  {
   "cell_type": "code",
   "execution_count": 4,
   "metadata": {},
   "outputs": [],
   "source": [
    "def coffee_machine_dataframe(product_types, models):   \n",
    "    products = []\n",
    "    for i in product_types:\n",
    "        for j in models:\n",
    "            products.append(product_types[i] + models[j])         \n",
    "    data = np.array(products).reshape(len(product_types), len(models))   \n",
    "    return pd.DataFrame(data=data, index=list(product_types.keys()), columns=list(models.keys())).transpose()\n",
    "\n",
    "def pods_dataframe(models, flavors, packages):\n",
    "    \n",
    "    # Index Levels\n",
    "    outside = np.repeat(list(flavors.keys()), len(packages))\n",
    "    inside = packages*len(flavors)\n",
    "    hier_index = list(zip(outside,inside))\n",
    "    hier_index = pd.MultiIndex.from_tuples(hier_index)\n",
    "    \n",
    "    # generate dataframe\n",
    "    data = np.array(cross_sell()).reshape(len(flavors)*len(packages), len(models))\n",
    "    df = pd.DataFrame(data=data, index=hier_index, columns=list(product_types.keys()))\n",
    "    df.index.names = index_names\n",
    "    return df"
   ]
  },
  {
   "cell_type": "code",
   "execution_count": 5,
   "metadata": {},
   "outputs": [
    {
     "data": {
      "text/html": [
       "<div>\n",
       "<style scoped>\n",
       "    .dataframe tbody tr th:only-of-type {\n",
       "        vertical-align: middle;\n",
       "    }\n",
       "\n",
       "    .dataframe tbody tr th {\n",
       "        vertical-align: top;\n",
       "    }\n",
       "\n",
       "    .dataframe thead th {\n",
       "        text-align: right;\n",
       "    }\n",
       "</style>\n",
       "<table border=\"1\" class=\"dataframe\">\n",
       "  <thead>\n",
       "    <tr style=\"text-align: right;\">\n",
       "      <th></th>\n",
       "      <th>Small</th>\n",
       "      <th>Large</th>\n",
       "      <th>Espresso</th>\n",
       "    </tr>\n",
       "  </thead>\n",
       "  <tbody>\n",
       "    <tr>\n",
       "      <th>Base</th>\n",
       "      <td>CM001</td>\n",
       "      <td>CM101</td>\n",
       "      <td>EM001</td>\n",
       "    </tr>\n",
       "    <tr>\n",
       "      <th>Premium</th>\n",
       "      <td>CM002</td>\n",
       "      <td>CM102</td>\n",
       "      <td>EM002</td>\n",
       "    </tr>\n",
       "    <tr>\n",
       "      <th>Deluxe</th>\n",
       "      <td>CM003</td>\n",
       "      <td>CM103</td>\n",
       "      <td>EM003</td>\n",
       "    </tr>\n",
       "  </tbody>\n",
       "</table>\n",
       "</div>"
      ],
      "text/plain": [
       "         Small  Large Espresso\n",
       "Base     CM001  CM101    EM001\n",
       "Premium  CM002  CM102    EM002\n",
       "Deluxe   CM003  CM103    EM003"
      ]
     },
     "execution_count": 5,
     "metadata": {},
     "output_type": "execute_result"
    }
   ],
   "source": [
    "coffee_machines = coffee_machine_dataframe(product_types, models)\n",
    "coffee_machines"
   ]
  },
  {
   "cell_type": "code",
   "execution_count": 6,
   "metadata": {},
   "outputs": [
    {
     "data": {
      "text/html": [
       "<div>\n",
       "<style scoped>\n",
       "    .dataframe tbody tr th:only-of-type {\n",
       "        vertical-align: middle;\n",
       "    }\n",
       "\n",
       "    .dataframe tbody tr th {\n",
       "        vertical-align: top;\n",
       "    }\n",
       "\n",
       "    .dataframe thead th {\n",
       "        text-align: right;\n",
       "    }\n",
       "</style>\n",
       "<table border=\"1\" class=\"dataframe\">\n",
       "  <thead>\n",
       "    <tr style=\"text-align: right;\">\n",
       "      <th></th>\n",
       "      <th></th>\n",
       "      <th>Small</th>\n",
       "      <th>Large</th>\n",
       "      <th>Espresso</th>\n",
       "    </tr>\n",
       "    <tr>\n",
       "      <th>Flavor</th>\n",
       "      <th>Package</th>\n",
       "      <th></th>\n",
       "      <th></th>\n",
       "      <th></th>\n",
       "    </tr>\n",
       "  </thead>\n",
       "  <tbody>\n",
       "    <tr>\n",
       "      <th rowspan=\"4\" valign=\"top\">vanilla</th>\n",
       "      <th>1</th>\n",
       "      <td>CP001</td>\n",
       "      <td>CP101</td>\n",
       "      <td>None</td>\n",
       "    </tr>\n",
       "    <tr>\n",
       "      <th>3</th>\n",
       "      <td>CP003</td>\n",
       "      <td>CP103</td>\n",
       "      <td>EP003</td>\n",
       "    </tr>\n",
       "    <tr>\n",
       "      <th>5</th>\n",
       "      <td>None</td>\n",
       "      <td>None</td>\n",
       "      <td>EP005</td>\n",
       "    </tr>\n",
       "    <tr>\n",
       "      <th>7</th>\n",
       "      <td>None</td>\n",
       "      <td>None</td>\n",
       "      <td>EP007</td>\n",
       "    </tr>\n",
       "    <tr>\n",
       "      <th rowspan=\"4\" valign=\"top\">caramel</th>\n",
       "      <th>1</th>\n",
       "      <td>CP011</td>\n",
       "      <td>CP111</td>\n",
       "      <td>None</td>\n",
       "    </tr>\n",
       "    <tr>\n",
       "      <th>3</th>\n",
       "      <td>CP013</td>\n",
       "      <td>CP113</td>\n",
       "      <td>EP013</td>\n",
       "    </tr>\n",
       "    <tr>\n",
       "      <th>5</th>\n",
       "      <td>None</td>\n",
       "      <td>None</td>\n",
       "      <td>EP015</td>\n",
       "    </tr>\n",
       "    <tr>\n",
       "      <th>7</th>\n",
       "      <td>None</td>\n",
       "      <td>None</td>\n",
       "      <td>EP017</td>\n",
       "    </tr>\n",
       "    <tr>\n",
       "      <th rowspan=\"4\" valign=\"top\">psl</th>\n",
       "      <th>1</th>\n",
       "      <td>CP021</td>\n",
       "      <td>CP121</td>\n",
       "      <td>None</td>\n",
       "    </tr>\n",
       "    <tr>\n",
       "      <th>3</th>\n",
       "      <td>CP023</td>\n",
       "      <td>CP123</td>\n",
       "      <td>None</td>\n",
       "    </tr>\n",
       "    <tr>\n",
       "      <th>5</th>\n",
       "      <td>None</td>\n",
       "      <td>None</td>\n",
       "      <td>None</td>\n",
       "    </tr>\n",
       "    <tr>\n",
       "      <th>7</th>\n",
       "      <td>None</td>\n",
       "      <td>None</td>\n",
       "      <td>None</td>\n",
       "    </tr>\n",
       "    <tr>\n",
       "      <th rowspan=\"4\" valign=\"top\">mocha</th>\n",
       "      <th>1</th>\n",
       "      <td>CP031</td>\n",
       "      <td>CP131</td>\n",
       "      <td>None</td>\n",
       "    </tr>\n",
       "    <tr>\n",
       "      <th>3</th>\n",
       "      <td>CP033</td>\n",
       "      <td>CP133</td>\n",
       "      <td>None</td>\n",
       "    </tr>\n",
       "    <tr>\n",
       "      <th>5</th>\n",
       "      <td>None</td>\n",
       "      <td>None</td>\n",
       "      <td>None</td>\n",
       "    </tr>\n",
       "    <tr>\n",
       "      <th>7</th>\n",
       "      <td>None</td>\n",
       "      <td>None</td>\n",
       "      <td>None</td>\n",
       "    </tr>\n",
       "    <tr>\n",
       "      <th rowspan=\"4\" valign=\"top\">hazelnut</th>\n",
       "      <th>1</th>\n",
       "      <td>CP041</td>\n",
       "      <td>CP141</td>\n",
       "      <td>None</td>\n",
       "    </tr>\n",
       "    <tr>\n",
       "      <th>3</th>\n",
       "      <td>CP043</td>\n",
       "      <td>CP143</td>\n",
       "      <td>None</td>\n",
       "    </tr>\n",
       "    <tr>\n",
       "      <th>5</th>\n",
       "      <td>None</td>\n",
       "      <td>None</td>\n",
       "      <td>None</td>\n",
       "    </tr>\n",
       "    <tr>\n",
       "      <th>7</th>\n",
       "      <td>None</td>\n",
       "      <td>None</td>\n",
       "      <td>None</td>\n",
       "    </tr>\n",
       "  </tbody>\n",
       "</table>\n",
       "</div>"
      ],
      "text/plain": [
       "                  Small  Large Espresso\n",
       "Flavor   Package                       \n",
       "vanilla  1        CP001  CP101     None\n",
       "         3        CP003  CP103    EP003\n",
       "         5         None   None    EP005\n",
       "         7         None   None    EP007\n",
       "caramel  1        CP011  CP111     None\n",
       "         3        CP013  CP113    EP013\n",
       "         5         None   None    EP015\n",
       "         7         None   None    EP017\n",
       "psl      1        CP021  CP121     None\n",
       "         3        CP023  CP123     None\n",
       "         5         None   None     None\n",
       "         7         None   None     None\n",
       "mocha    1        CP031  CP131     None\n",
       "         3        CP033  CP133     None\n",
       "         5         None   None     None\n",
       "         7         None   None     None\n",
       "hazelnut 1        CP041  CP141     None\n",
       "         3        CP043  CP143     None\n",
       "         5         None   None     None\n",
       "         7         None   None     None"
      ]
     },
     "execution_count": 6,
     "metadata": {},
     "output_type": "execute_result"
    }
   ],
   "source": [
    "coffee_pods = pods_dataframe(models, flavors, packages)\n",
    "coffee_pods"
   ]
  },
  {
   "cell_type": "markdown",
   "metadata": {},
   "source": [
    "## Questions"
   ]
  },
  {
   "cell_type": "code",
   "execution_count": 7,
   "metadata": {},
   "outputs": [
    {
     "data": {
      "text/plain": [
       "Base       CM101\n",
       "Premium    CM102\n",
       "Deluxe     CM103\n",
       "Name: Large, dtype: object"
      ]
     },
     "execution_count": 7,
     "metadata": {},
     "output_type": "execute_result"
    }
   ],
   "source": [
    "# All large machines\n",
    "coffee_machines['Large']"
   ]
  },
  {
   "cell_type": "code",
   "execution_count": 8,
   "metadata": {},
   "outputs": [
    {
     "data": {
      "text/plain": [
       "Flavor    Package\n",
       "vanilla   1          CP101\n",
       "          3          CP103\n",
       "caramel   1          CP111\n",
       "          3          CP113\n",
       "psl       1          CP121\n",
       "          3          CP123\n",
       "mocha     1          CP131\n",
       "          3          CP133\n",
       "hazelnut  1          CP141\n",
       "          3          CP143\n",
       "Name: Large, dtype: object"
      ]
     },
     "execution_count": 8,
     "metadata": {},
     "output_type": "execute_result"
    }
   ],
   "source": [
    "# Cross-sell for all large machines\n",
    "coffee_pods['Large'].dropna()"
   ]
  },
  {
   "cell_type": "code",
   "execution_count": 9,
   "metadata": {},
   "outputs": [
    {
     "data": {
      "text/plain": [
       "['CP101', 'CP111', 'CP121', 'CP131', 'CP141']"
      ]
     },
     "execution_count": 9,
     "metadata": {},
     "output_type": "execute_result"
    }
   ],
   "source": [
    "# All cross-sell for large machine, smallest per flavor\n",
    "[coffee_pods.Large[key][coffee_pods.Large[key].first_valid_index()] for key, value in flavors.items()]"
   ]
  },
  {
   "cell_type": "code",
   "execution_count": 10,
   "metadata": {},
   "outputs": [
    {
     "data": {
      "text/plain": [
       "Package\n",
       "3    EP003\n",
       "5    EP005\n",
       "7    EP007\n",
       "Name: Espresso, dtype: object"
      ]
     },
     "execution_count": 10,
     "metadata": {},
     "output_type": "execute_result"
    }
   ],
   "source": [
    "# All choices on espresso vanilla landing page\n",
    "coffee_pods.Espresso.loc['vanilla'].dropna()"
   ]
  },
  {
   "cell_type": "code",
   "execution_count": 11,
   "metadata": {},
   "outputs": [
    {
     "data": {
      "text/plain": [
       "Base       EM001\n",
       "Premium    EM002\n",
       "Deluxe     EM003\n",
       "Name: Espresso, dtype: object"
      ]
     },
     "execution_count": 11,
     "metadata": {},
     "output_type": "execute_result"
    }
   ],
   "source": [
    "# All espresso machines\n",
    "coffee_machines.Espresso"
   ]
  },
  {
   "cell_type": "code",
   "execution_count": 12,
   "metadata": {},
   "outputs": [
    {
     "data": {
      "text/plain": [
       "Flavor   Package\n",
       "vanilla  3          EP003\n",
       "         5          EP005\n",
       "         7          EP007\n",
       "caramel  3          EP013\n",
       "         5          EP015\n",
       "         7          EP017\n",
       "Name: Espresso, dtype: object"
      ]
     },
     "execution_count": 12,
     "metadata": {},
     "output_type": "execute_result"
    }
   ],
   "source": [
    "# Cross-sell for all espresso machines\n",
    "coffee_pods['Espresso'].dropna()"
   ]
  },
  {
   "cell_type": "code",
   "execution_count": 13,
   "metadata": {},
   "outputs": [
    {
     "data": {
      "text/plain": [
       "['EP003', 'EP013']"
      ]
     },
     "execution_count": 13,
     "metadata": {},
     "output_type": "execute_result"
    }
   ],
   "source": [
    "# All cross-sell for espresso machine, smallest per flavor\n",
    "cross_list = []\n",
    "for key, value in flavors.items():\n",
    "    try:\n",
    "        cross_list.append(coffee_pods.Espresso[key][coffee_pods.Espresso[key].first_valid_index()])\n",
    "    except KeyError:\n",
    "        break\n",
    "cross_list"
   ]
  },
  {
   "cell_type": "code",
   "execution_count": 14,
   "metadata": {},
   "outputs": [
    {
     "data": {
      "text/plain": [
       "['CP001', 'CP101', 'EP003']"
      ]
     },
     "execution_count": 14,
     "metadata": {},
     "output_type": "execute_result"
    }
   ],
   "source": [
    "# All choices on general vanilla landing page, smallest per product type\n",
    "[coffee_pods.loc['vanilla'][key][coffee_pods.loc['vanilla'][key].first_valid_index()] \\\n",
    "     for key, value in product_types.items()]"
   ]
  },
  {
   "cell_type": "code",
   "execution_count": 16,
   "metadata": {},
   "outputs": [],
   "source": [
    "# save data frames for the api\n",
    "coffee_machines.to_csv('machines.csv', encoding='utf-8')\n",
    "coffee_pods.to_csv('pods.csv', encoding='utf-8')"
   ]
  },
  {
   "cell_type": "code",
   "execution_count": null,
   "metadata": {},
   "outputs": [],
   "source": []
  }
 ],
 "metadata": {
  "kernelspec": {
   "display_name": "Python 3",
   "language": "python",
   "name": "python3"
  },
  "language_info": {
   "codemirror_mode": {
    "name": "ipython",
    "version": 3
   },
   "file_extension": ".py",
   "mimetype": "text/x-python",
   "name": "python",
   "nbconvert_exporter": "python",
   "pygments_lexer": "ipython3",
   "version": "3.6.5"
  }
 },
 "nbformat": 4,
 "nbformat_minor": 2
}
