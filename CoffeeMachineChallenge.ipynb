{
 "cells": [
  {
   "cell_type": "markdown",
   "metadata": {},
   "source": [
    "# SWENSON, HE and Alex\n",
    "## Coffe Machine Cross-Sell Backend Challenge"
   ]
  },
  {
   "cell_type": "code",
   "execution_count": 1,
   "metadata": {},
   "outputs": [],
   "source": [
    "import numpy as np\n",
    "import pandas as pd"
   ]
  },
  {
   "cell_type": "code",
   "execution_count": 2,
   "metadata": {},
   "outputs": [],
   "source": [
    "def check_item(model, flavor, package):\n",
    "    '''Checks if combination input matches any item in SKU list, if not returns None'''\n",
    "    models = {'Small':'CP0', 'Large':'CP1', 'Expresso':'EP0'}\n",
    "    \n",
    "    # Check inputs\n",
    "    if model == 'Expresso':\n",
    "        flavors = {'vanilla':'0', 'caramel':'1'}\n",
    "        packages = [3, 5, 7]\n",
    "        if flavor not in flavors:\n",
    "            return None\n",
    "        if package not in packages:\n",
    "            return None      \n",
    "    elif model == 'Small' or model == 'Large':\n",
    "        flavors = {'vanilla':'0', 'caramel':'1', 'psl':'2', 'mocha':'3', 'hazelnut':'4'}\n",
    "        packages = [1,3]\n",
    "        if flavor not in flavors:\n",
    "            return None\n",
    "        if package not in packages:\n",
    "            return None      \n",
    "    else:\n",
    "        return None\n",
    "    \n",
    "    return models[model] + flavors[flavor] + str(package)\n",
    "\n",
    "def cross_sell(model=[], flavor=[], package=[]):\n",
    "    '''Returns a list of all cross sell combinations for model, flavor and package'''\n",
    "    pod_list = []\n",
    "    \n",
    "    # Check inputs\n",
    "    if not model:\n",
    "        model = ['Small', 'Large', 'Expresso']\n",
    "    if not flavor:\n",
    "        flavor = ['vanilla', 'caramel', 'psl', 'mocha', 'hazelnut']\n",
    "    if not package:\n",
    "        package = [1, 3, 5, 7]\n",
    "    \n",
    "    # All possible combinations\n",
    "    for f in flavor:\n",
    "        for p in package: \n",
    "            for m in model:\n",
    "                pod_list.append(check_item(m, f, p))\n",
    "                \n",
    "    return pod_list"
   ]
  },
  {
   "cell_type": "code",
   "execution_count": 3,
   "metadata": {},
   "outputs": [
    {
     "name": "stdout",
     "output_type": "stream",
     "text": [
      "['CP101', 'CP111', 'CP121', 'CP131', 'CP141']\n",
      "[None, 'EP003', 'EP005', 'EP007']\n",
      "['EP003', 'EP013', None, None, None]\n"
     ]
    }
   ],
   "source": [
    "print(cross_sell(model=['Large'], package=[1]))\n",
    "print(cross_sell(['Expresso'], ['vanilla']))\n",
    "print(cross_sell(['Expresso'], package=[3]))"
   ]
  },
  {
   "cell_type": "markdown",
   "metadata": {},
   "source": [
    "### Generating Coffe Machine Data Frame"
   ]
  },
  {
   "cell_type": "code",
   "execution_count": 4,
   "metadata": {},
   "outputs": [
    {
     "data": {
      "text/html": [
       "<div>\n",
       "<style scoped>\n",
       "    .dataframe tbody tr th:only-of-type {\n",
       "        vertical-align: middle;\n",
       "    }\n",
       "\n",
       "    .dataframe tbody tr th {\n",
       "        vertical-align: top;\n",
       "    }\n",
       "\n",
       "    .dataframe thead th {\n",
       "        text-align: right;\n",
       "    }\n",
       "</style>\n",
       "<table border=\"1\" class=\"dataframe\">\n",
       "  <thead>\n",
       "    <tr style=\"text-align: right;\">\n",
       "      <th></th>\n",
       "      <th>Small</th>\n",
       "      <th>Large</th>\n",
       "      <th>Expresso</th>\n",
       "    </tr>\n",
       "  </thead>\n",
       "  <tbody>\n",
       "    <tr>\n",
       "      <th>Base</th>\n",
       "      <td>CM001</td>\n",
       "      <td>CM101</td>\n",
       "      <td>EM001</td>\n",
       "    </tr>\n",
       "    <tr>\n",
       "      <th>Premium</th>\n",
       "      <td>CM002</td>\n",
       "      <td>CM102</td>\n",
       "      <td>EM002</td>\n",
       "    </tr>\n",
       "    <tr>\n",
       "      <th>Deluxe</th>\n",
       "      <td>CM003</td>\n",
       "      <td>CM103</td>\n",
       "      <td>EM003</td>\n",
       "    </tr>\n",
       "  </tbody>\n",
       "</table>\n",
       "</div>"
      ],
      "text/plain": [
       "         Small  Large Expresso\n",
       "Base     CM001  CM101    EM001\n",
       "Premium  CM002  CM102    EM002\n",
       "Deluxe   CM003  CM103    EM003"
      ]
     },
     "execution_count": 4,
     "metadata": {},
     "output_type": "execute_result"
    }
   ],
   "source": [
    "data = np.array(\"CM001 CM002 CM003 CM101 CM102 CM103 EM001 EM002 EM003\".split()).reshape(3,3)\n",
    "machines = pd.DataFrame(data=data, index=\"Small Large Expresso\".split(), \\\n",
    "             columns=\"Base Premium Deluxe\".split()).transpose()\n",
    "machines"
   ]
  },
  {
   "cell_type": "markdown",
   "metadata": {},
   "source": [
    "### Generating Coffe Pods Data Frame"
   ]
  },
  {
   "cell_type": "code",
   "execution_count": 5,
   "metadata": {
    "scrolled": false
   },
   "outputs": [
    {
     "data": {
      "text/html": [
       "<div>\n",
       "<style scoped>\n",
       "    .dataframe tbody tr th:only-of-type {\n",
       "        vertical-align: middle;\n",
       "    }\n",
       "\n",
       "    .dataframe tbody tr th {\n",
       "        vertical-align: top;\n",
       "    }\n",
       "\n",
       "    .dataframe thead th {\n",
       "        text-align: right;\n",
       "    }\n",
       "</style>\n",
       "<table border=\"1\" class=\"dataframe\">\n",
       "  <thead>\n",
       "    <tr style=\"text-align: right;\">\n",
       "      <th></th>\n",
       "      <th></th>\n",
       "      <th>Small</th>\n",
       "      <th>Large</th>\n",
       "      <th>Expresso</th>\n",
       "    </tr>\n",
       "    <tr>\n",
       "      <th>Flavor</th>\n",
       "      <th>Packages</th>\n",
       "      <th></th>\n",
       "      <th></th>\n",
       "      <th></th>\n",
       "    </tr>\n",
       "  </thead>\n",
       "  <tbody>\n",
       "    <tr>\n",
       "      <th rowspan=\"4\" valign=\"top\">vanilla</th>\n",
       "      <th>1</th>\n",
       "      <td>CP001</td>\n",
       "      <td>CP101</td>\n",
       "      <td>None</td>\n",
       "    </tr>\n",
       "    <tr>\n",
       "      <th>3</th>\n",
       "      <td>CP003</td>\n",
       "      <td>CP103</td>\n",
       "      <td>EP003</td>\n",
       "    </tr>\n",
       "    <tr>\n",
       "      <th>5</th>\n",
       "      <td>None</td>\n",
       "      <td>None</td>\n",
       "      <td>EP005</td>\n",
       "    </tr>\n",
       "    <tr>\n",
       "      <th>7</th>\n",
       "      <td>None</td>\n",
       "      <td>None</td>\n",
       "      <td>EP007</td>\n",
       "    </tr>\n",
       "    <tr>\n",
       "      <th rowspan=\"4\" valign=\"top\">caramel</th>\n",
       "      <th>1</th>\n",
       "      <td>CP011</td>\n",
       "      <td>CP111</td>\n",
       "      <td>None</td>\n",
       "    </tr>\n",
       "    <tr>\n",
       "      <th>3</th>\n",
       "      <td>CP013</td>\n",
       "      <td>CP113</td>\n",
       "      <td>EP013</td>\n",
       "    </tr>\n",
       "    <tr>\n",
       "      <th>5</th>\n",
       "      <td>None</td>\n",
       "      <td>None</td>\n",
       "      <td>EP015</td>\n",
       "    </tr>\n",
       "    <tr>\n",
       "      <th>7</th>\n",
       "      <td>None</td>\n",
       "      <td>None</td>\n",
       "      <td>EP017</td>\n",
       "    </tr>\n",
       "    <tr>\n",
       "      <th rowspan=\"4\" valign=\"top\">psl</th>\n",
       "      <th>1</th>\n",
       "      <td>CP021</td>\n",
       "      <td>CP121</td>\n",
       "      <td>None</td>\n",
       "    </tr>\n",
       "    <tr>\n",
       "      <th>3</th>\n",
       "      <td>CP023</td>\n",
       "      <td>CP123</td>\n",
       "      <td>None</td>\n",
       "    </tr>\n",
       "    <tr>\n",
       "      <th>5</th>\n",
       "      <td>None</td>\n",
       "      <td>None</td>\n",
       "      <td>None</td>\n",
       "    </tr>\n",
       "    <tr>\n",
       "      <th>7</th>\n",
       "      <td>None</td>\n",
       "      <td>None</td>\n",
       "      <td>None</td>\n",
       "    </tr>\n",
       "    <tr>\n",
       "      <th rowspan=\"4\" valign=\"top\">mocha</th>\n",
       "      <th>1</th>\n",
       "      <td>CP031</td>\n",
       "      <td>CP131</td>\n",
       "      <td>None</td>\n",
       "    </tr>\n",
       "    <tr>\n",
       "      <th>3</th>\n",
       "      <td>CP033</td>\n",
       "      <td>CP133</td>\n",
       "      <td>None</td>\n",
       "    </tr>\n",
       "    <tr>\n",
       "      <th>5</th>\n",
       "      <td>None</td>\n",
       "      <td>None</td>\n",
       "      <td>None</td>\n",
       "    </tr>\n",
       "    <tr>\n",
       "      <th>7</th>\n",
       "      <td>None</td>\n",
       "      <td>None</td>\n",
       "      <td>None</td>\n",
       "    </tr>\n",
       "    <tr>\n",
       "      <th rowspan=\"4\" valign=\"top\">hazelnut</th>\n",
       "      <th>1</th>\n",
       "      <td>CP041</td>\n",
       "      <td>CP141</td>\n",
       "      <td>None</td>\n",
       "    </tr>\n",
       "    <tr>\n",
       "      <th>3</th>\n",
       "      <td>CP043</td>\n",
       "      <td>CP143</td>\n",
       "      <td>None</td>\n",
       "    </tr>\n",
       "    <tr>\n",
       "      <th>5</th>\n",
       "      <td>None</td>\n",
       "      <td>None</td>\n",
       "      <td>None</td>\n",
       "    </tr>\n",
       "    <tr>\n",
       "      <th>7</th>\n",
       "      <td>None</td>\n",
       "      <td>None</td>\n",
       "      <td>None</td>\n",
       "    </tr>\n",
       "  </tbody>\n",
       "</table>\n",
       "</div>"
      ],
      "text/plain": [
       "                   Small  Large Expresso\n",
       "Flavor   Packages                       \n",
       "vanilla  1         CP001  CP101     None\n",
       "         3         CP003  CP103    EP003\n",
       "         5          None   None    EP005\n",
       "         7          None   None    EP007\n",
       "caramel  1         CP011  CP111     None\n",
       "         3         CP013  CP113    EP013\n",
       "         5          None   None    EP015\n",
       "         7          None   None    EP017\n",
       "psl      1         CP021  CP121     None\n",
       "         3         CP023  CP123     None\n",
       "         5          None   None     None\n",
       "         7          None   None     None\n",
       "mocha    1         CP031  CP131     None\n",
       "         3         CP033  CP133     None\n",
       "         5          None   None     None\n",
       "         7          None   None     None\n",
       "hazelnut 1         CP041  CP141     None\n",
       "         3         CP043  CP143     None\n",
       "         5          None   None     None\n",
       "         7          None   None     None"
      ]
     },
     "execution_count": 5,
     "metadata": {},
     "output_type": "execute_result"
    }
   ],
   "source": [
    "# Index Levels\n",
    "outside = ['vanilla']*4+['caramel']*4+['psl']*4+['mocha']*4+['hazelnut']*4\n",
    "inside = [1,3,5,7]*5\n",
    "hier_index = list(zip(outside,inside))\n",
    "hier_index = pd.MultiIndex.from_tuples(hier_index)\n",
    "\n",
    "data = np.array(cross_sell()).reshape(20, 3) # empty cross_sell function generates pods data \n",
    "pods = pd.DataFrame(data=data, index=hier_index, columns=\"Small Large Expresso\".split())\n",
    "pods.index.names = ['Flavor', 'Packages']\n",
    "pods"
   ]
  },
  {
   "cell_type": "code",
   "execution_count": 6,
   "metadata": {},
   "outputs": [
    {
     "data": {
      "text/plain": [
       "Base       CM101\n",
       "Premium    CM102\n",
       "Deluxe     CM103\n",
       "Name: Large, dtype: object"
      ]
     },
     "execution_count": 6,
     "metadata": {},
     "output_type": "execute_result"
    }
   ],
   "source": [
    "# All large machines\n",
    "machines['Large']"
   ]
  },
  {
   "cell_type": "code",
   "execution_count": 7,
   "metadata": {},
   "outputs": [
    {
     "data": {
      "text/plain": [
       "Flavor\n",
       "vanilla     CP101\n",
       "caramel     CP111\n",
       "psl         CP121\n",
       "mocha       CP131\n",
       "hazelnut    CP141\n",
       "Name: Large, dtype: object"
      ]
     },
     "execution_count": 7,
     "metadata": {},
     "output_type": "execute_result"
    }
   ],
   "source": [
    "# All cross-sell for large machine, smallest per flavor\n",
    "pods['Large'].xs(1, level='Packages')"
   ]
  },
  {
   "cell_type": "code",
   "execution_count": 8,
   "metadata": {},
   "outputs": [
    {
     "data": {
      "text/plain": [
       "Packages\n",
       "3    EP003\n",
       "5    EP005\n",
       "7    EP007\n",
       "Name: Expresso, dtype: object"
      ]
     },
     "execution_count": 8,
     "metadata": {},
     "output_type": "execute_result"
    }
   ],
   "source": [
    "# All choices on espresso vanilla landing page\n",
    "pods.Expresso.loc['vanilla'].dropna()"
   ]
  },
  {
   "cell_type": "code",
   "execution_count": 9,
   "metadata": {},
   "outputs": [
    {
     "data": {
      "text/plain": [
       "Base       EM001\n",
       "Premium    EM002\n",
       "Deluxe     EM003\n",
       "Name: Expresso, dtype: object"
      ]
     },
     "execution_count": 9,
     "metadata": {},
     "output_type": "execute_result"
    }
   ],
   "source": [
    "# All espresso machines\n",
    "machines.Expresso"
   ]
  },
  {
   "cell_type": "code",
   "execution_count": 10,
   "metadata": {},
   "outputs": [
    {
     "data": {
      "text/plain": [
       "Flavor\n",
       "vanilla    EP003\n",
       "caramel    EP013\n",
       "Name: Expresso, dtype: object"
      ]
     },
     "execution_count": 10,
     "metadata": {},
     "output_type": "execute_result"
    }
   ],
   "source": [
    "# All cross-sell for espresso machine, smallest per flavor\n",
    "pods.Expresso.xs(3, level='Packages').dropna()"
   ]
  },
  {
   "cell_type": "code",
   "execution_count": 11,
   "metadata": {},
   "outputs": [
    {
     "data": {
      "text/plain": [
       "Small       CP001\n",
       "Large       CP101\n",
       "Expresso     None\n",
       "Name: 1, dtype: object"
      ]
     },
     "execution_count": 11,
     "metadata": {},
     "output_type": "execute_result"
    }
   ],
   "source": [
    "# All choices on general vanilla landing page, smallest per product type\n",
    "pods.loc['vanilla'].loc[1]"
   ]
  },
  {
   "cell_type": "code",
   "execution_count": 12,
   "metadata": {},
   "outputs": [
    {
     "data": {
      "text/plain": [
       "'EP003'"
      ]
     },
     "execution_count": 12,
     "metadata": {},
     "output_type": "execute_result"
    }
   ],
   "source": [
    "# Expresso is missing on the results above, select next smallest value\n",
    "pods.loc['vanilla'].Expresso[3]"
   ]
  },
  {
   "cell_type": "code",
   "execution_count": 13,
   "metadata": {},
   "outputs": [],
   "source": [
    "# save data frames for the api\n",
    "machines.to_csv('machines.csv', encoding='utf-8')\n",
    "pods.to_csv('pods.csv', encoding='utf-8')"
   ]
  }
 ],
 "metadata": {
  "kernelspec": {
   "display_name": "Python 3",
   "language": "python",
   "name": "python3"
  },
  "language_info": {
   "codemirror_mode": {
    "name": "ipython",
    "version": 3
   },
   "file_extension": ".py",
   "mimetype": "text/x-python",
   "name": "python",
   "nbconvert_exporter": "python",
   "pygments_lexer": "ipython3",
   "version": "3.6.5"
  }
 },
 "nbformat": 4,
 "nbformat_minor": 2
}
